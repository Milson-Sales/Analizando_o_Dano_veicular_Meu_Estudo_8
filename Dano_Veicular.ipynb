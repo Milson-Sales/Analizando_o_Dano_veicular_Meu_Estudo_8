{
  "nbformat": 4,
  "nbformat_minor": 0,
  "metadata": {
    "colab": {
      "name": "Dano Veicular.ipynb",
      "provenance": []
    },
    "kernelspec": {
      "name": "python3",
      "display_name": "Python 3"
    },
    "language_info": {
      "name": "python"
    },
    "widgets": {
      "application/vnd.jupyter.widget-state+json": {
        "b197c408f29742a1afe3bd61ccd6396d": {
          "model_module": "@jupyter-widgets/controls",
          "model_name": "DropdownModel",
          "model_module_version": "1.5.0",
          "state": {
            "_options_labels": [
              "Laterais",
              "Teto"
            ],
            "_view_name": "DropdownView",
            "style": "IPY_MODEL_c646455b37594da7831140cb1ad0b875",
            "_dom_classes": [],
            "description": "Choose a Column to Plot vs. attributes",
            "_model_name": "DropdownModel",
            "index": 0,
            "_view_module": "@jupyter-widgets/controls",
            "_model_module_version": "1.5.0",
            "_view_count": null,
            "disabled": false,
            "_view_module_version": "1.5.0",
            "description_tooltip": null,
            "_model_module": "@jupyter-widgets/controls",
            "layout": "IPY_MODEL_e32c309fff8e43d88e13bc47d48def48"
          }
        },
        "c646455b37594da7831140cb1ad0b875": {
          "model_module": "@jupyter-widgets/controls",
          "model_name": "DescriptionStyleModel",
          "model_module_version": "1.5.0",
          "state": {
            "_view_name": "StyleView",
            "_model_name": "DescriptionStyleModel",
            "description_width": "",
            "_view_module": "@jupyter-widgets/base",
            "_model_module_version": "1.5.0",
            "_view_count": null,
            "_view_module_version": "1.2.0",
            "_model_module": "@jupyter-widgets/controls"
          }
        },
        "e32c309fff8e43d88e13bc47d48def48": {
          "model_module": "@jupyter-widgets/base",
          "model_name": "LayoutModel",
          "model_module_version": "1.2.0",
          "state": {
            "_view_name": "LayoutView",
            "grid_template_rows": null,
            "right": null,
            "justify_content": null,
            "_view_module": "@jupyter-widgets/base",
            "overflow": null,
            "_model_module_version": "1.2.0",
            "_view_count": null,
            "flex_flow": null,
            "width": null,
            "min_width": null,
            "border": null,
            "align_items": null,
            "bottom": null,
            "_model_module": "@jupyter-widgets/base",
            "top": null,
            "grid_column": null,
            "overflow_y": null,
            "overflow_x": null,
            "grid_auto_flow": null,
            "grid_area": null,
            "grid_template_columns": null,
            "flex": null,
            "_model_name": "LayoutModel",
            "justify_items": null,
            "grid_row": null,
            "max_height": null,
            "align_content": null,
            "visibility": null,
            "align_self": null,
            "height": null,
            "min_height": null,
            "padding": null,
            "grid_auto_rows": null,
            "grid_gap": null,
            "max_width": null,
            "order": null,
            "_view_module_version": "1.2.0",
            "grid_template_areas": null,
            "object_position": null,
            "object_fit": null,
            "grid_auto_columns": null,
            "margin": null,
            "display": null,
            "left": null
          }
        },
        "0f0588866cf4467298a91399df1b19fe": {
          "model_module": "@jupyter-widgets/controls",
          "model_name": "FloatSliderModel",
          "model_module_version": "1.5.0",
          "state": {
            "_view_name": "FloatSliderView",
            "style": "IPY_MODEL_8fbf67c3a74041e88e0fd6e048bcccbd",
            "_dom_classes": [],
            "description": "Test Size:",
            "step": 0.1,
            "_model_name": "FloatSliderModel",
            "orientation": "horizontal",
            "max": 0.6,
            "_view_module": "@jupyter-widgets/controls",
            "_model_module_version": "1.5.0",
            "value": 0.2,
            "_view_count": null,
            "disabled": false,
            "_view_module_version": "1.5.0",
            "min": 0.01,
            "continuous_update": true,
            "readout_format": ".2f",
            "description_tooltip": null,
            "readout": true,
            "_model_module": "@jupyter-widgets/controls",
            "layout": "IPY_MODEL_b7860f714f8b4268a195074bef8adcf8"
          }
        },
        "8fbf67c3a74041e88e0fd6e048bcccbd": {
          "model_module": "@jupyter-widgets/controls",
          "model_name": "SliderStyleModel",
          "model_module_version": "1.5.0",
          "state": {
            "_view_name": "StyleView",
            "handle_color": null,
            "_model_name": "SliderStyleModel",
            "description_width": "",
            "_view_module": "@jupyter-widgets/base",
            "_model_module_version": "1.5.0",
            "_view_count": null,
            "_view_module_version": "1.2.0",
            "_model_module": "@jupyter-widgets/controls"
          }
        },
        "b7860f714f8b4268a195074bef8adcf8": {
          "model_module": "@jupyter-widgets/base",
          "model_name": "LayoutModel",
          "model_module_version": "1.2.0",
          "state": {
            "_view_name": "LayoutView",
            "grid_template_rows": null,
            "right": null,
            "justify_content": null,
            "_view_module": "@jupyter-widgets/base",
            "overflow": null,
            "_model_module_version": "1.2.0",
            "_view_count": null,
            "flex_flow": null,
            "width": null,
            "min_width": null,
            "border": null,
            "align_items": null,
            "bottom": null,
            "_model_module": "@jupyter-widgets/base",
            "top": null,
            "grid_column": null,
            "overflow_y": null,
            "overflow_x": null,
            "grid_auto_flow": null,
            "grid_area": null,
            "grid_template_columns": null,
            "flex": null,
            "_model_name": "LayoutModel",
            "justify_items": null,
            "grid_row": null,
            "max_height": null,
            "align_content": null,
            "visibility": null,
            "align_self": null,
            "height": null,
            "min_height": null,
            "padding": null,
            "grid_auto_rows": null,
            "grid_gap": null,
            "max_width": null,
            "order": null,
            "_view_module_version": "1.2.0",
            "grid_template_areas": null,
            "object_position": null,
            "object_fit": null,
            "grid_auto_columns": null,
            "margin": null,
            "display": null,
            "left": null
          }
        },
        "e39b2764b1924ae1a4a4a3ede48b8b16": {
          "model_module": "@jupyter-widgets/controls",
          "model_name": "DropdownModel",
          "model_module_version": "1.5.0",
          "state": {
            "_options_labels": [
              "1",
              "10",
              "30",
              "100"
            ],
            "_view_name": "DropdownView",
            "style": "IPY_MODEL_fc352c1b69ea4ae1919029f060b4785a",
            "_dom_classes": [],
            "description": "Numbers of Neighbours=",
            "_model_name": "DropdownModel",
            "index": 1,
            "_view_module": "@jupyter-widgets/controls",
            "_model_module_version": "1.5.0",
            "_view_count": null,
            "disabled": false,
            "_view_module_version": "1.5.0",
            "description_tooltip": null,
            "_model_module": "@jupyter-widgets/controls",
            "layout": "IPY_MODEL_88041149db6a41008f4eb2a8a71f6350"
          }
        },
        "fc352c1b69ea4ae1919029f060b4785a": {
          "model_module": "@jupyter-widgets/controls",
          "model_name": "DescriptionStyleModel",
          "model_module_version": "1.5.0",
          "state": {
            "_view_name": "StyleView",
            "_model_name": "DescriptionStyleModel",
            "description_width": "",
            "_view_module": "@jupyter-widgets/base",
            "_model_module_version": "1.5.0",
            "_view_count": null,
            "_view_module_version": "1.2.0",
            "_model_module": "@jupyter-widgets/controls"
          }
        },
        "88041149db6a41008f4eb2a8a71f6350": {
          "model_module": "@jupyter-widgets/base",
          "model_name": "LayoutModel",
          "model_module_version": "1.2.0",
          "state": {
            "_view_name": "LayoutView",
            "grid_template_rows": null,
            "right": null,
            "justify_content": null,
            "_view_module": "@jupyter-widgets/base",
            "overflow": null,
            "_model_module_version": "1.2.0",
            "_view_count": null,
            "flex_flow": null,
            "width": null,
            "min_width": null,
            "border": null,
            "align_items": null,
            "bottom": null,
            "_model_module": "@jupyter-widgets/base",
            "top": null,
            "grid_column": null,
            "overflow_y": null,
            "overflow_x": null,
            "grid_auto_flow": null,
            "grid_area": null,
            "grid_template_columns": null,
            "flex": null,
            "_model_name": "LayoutModel",
            "justify_items": null,
            "grid_row": null,
            "max_height": null,
            "align_content": null,
            "visibility": null,
            "align_self": null,
            "height": null,
            "min_height": null,
            "padding": null,
            "grid_auto_rows": null,
            "grid_gap": null,
            "max_width": null,
            "order": null,
            "_view_module_version": "1.2.0",
            "grid_template_areas": null,
            "object_position": null,
            "object_fit": null,
            "grid_auto_columns": null,
            "margin": null,
            "display": null,
            "left": null
          }
        }
      }
    }
  },
  "cells": [
    {
      "cell_type": "code",
      "metadata": {
        "id": "6exZH80rRv9C"
      },
      "source": [
        "# 1° Problema de Negócio\n",
        "# Dano veicular\n",
        "# Arquivo Dano.csv\n",
        "\n",
        "import ipywidgets as widgets\n",
        "from IPython.display import display\n",
        "\n",
        "style = {'Descrição_Variáveis':'initial'}"
      ],
      "execution_count": 1,
      "outputs": []
    },
    {
      "cell_type": "code",
      "metadata": {
        "id": "IbcFS1EcScs1"
      },
      "source": [
        "# importando Bibliotecas Essenciais\n",
        "import pandas as pd\n",
        "import numpy as np\n",
        "%matplotlib inline\n",
        "import matplotlib.pyplot as plt\n",
        "import seaborn as sns\n",
        "from sklearn import metrics"
      ],
      "execution_count": 2,
      "outputs": []
    },
    {
      "cell_type": "code",
      "metadata": {
        "id": "JHA8ZySqfTvh",
        "colab": {
          "base_uri": "https://localhost:8080/",
          "height": 204
        },
        "outputId": "5a0ab3ae-0d4a-4739-cbd1-f57892ec1f27"
      },
      "source": [
        "# Importando o dataset - Fonte dos Dados\n",
        "file_name = 'dano.csv'\n",
        "dataset = pd.read_csv(file_name, delimiter= ';')\n",
        "dataset.head()"
      ],
      "execution_count": 3,
      "outputs": [
        {
          "output_type": "execute_result",
          "data": {
            "text/html": [
              "<div>\n",
              "<style scoped>\n",
              "    .dataframe tbody tr th:only-of-type {\n",
              "        vertical-align: middle;\n",
              "    }\n",
              "\n",
              "    .dataframe tbody tr th {\n",
              "        vertical-align: top;\n",
              "    }\n",
              "\n",
              "    .dataframe thead th {\n",
              "        text-align: right;\n",
              "    }\n",
              "</style>\n",
              "<table border=\"1\" class=\"dataframe\">\n",
              "  <thead>\n",
              "    <tr style=\"text-align: right;\">\n",
              "      <th></th>\n",
              "      <th>ID_Veicular</th>\n",
              "      <th>Laterais</th>\n",
              "      <th>Dianteira</th>\n",
              "      <th>Traseira</th>\n",
              "      <th>Teto</th>\n",
              "      <th>Dano_Veicular</th>\n",
              "    </tr>\n",
              "  </thead>\n",
              "  <tbody>\n",
              "    <tr>\n",
              "      <th>0</th>\n",
              "      <td>0</td>\n",
              "      <td>5.1</td>\n",
              "      <td>3.5</td>\n",
              "      <td>1.4</td>\n",
              "      <td>0.2</td>\n",
              "      <td>Dano-Alto</td>\n",
              "    </tr>\n",
              "    <tr>\n",
              "      <th>1</th>\n",
              "      <td>1</td>\n",
              "      <td>4.9</td>\n",
              "      <td>3.0</td>\n",
              "      <td>1.4</td>\n",
              "      <td>0.2</td>\n",
              "      <td>Dano-Alto</td>\n",
              "    </tr>\n",
              "    <tr>\n",
              "      <th>2</th>\n",
              "      <td>2</td>\n",
              "      <td>4.7</td>\n",
              "      <td>3.2</td>\n",
              "      <td>1.3</td>\n",
              "      <td>0.2</td>\n",
              "      <td>Dano-Alto</td>\n",
              "    </tr>\n",
              "    <tr>\n",
              "      <th>3</th>\n",
              "      <td>3</td>\n",
              "      <td>4.6</td>\n",
              "      <td>3.1</td>\n",
              "      <td>1.5</td>\n",
              "      <td>0.2</td>\n",
              "      <td>Dano-Alto</td>\n",
              "    </tr>\n",
              "    <tr>\n",
              "      <th>4</th>\n",
              "      <td>4</td>\n",
              "      <td>5.0</td>\n",
              "      <td>3.6</td>\n",
              "      <td>1.4</td>\n",
              "      <td>0.2</td>\n",
              "      <td>Dano-Alto</td>\n",
              "    </tr>\n",
              "  </tbody>\n",
              "</table>\n",
              "</div>"
            ],
            "text/plain": [
              "   ID_Veicular  Laterais  Dianteira  Traseira  Teto Dano_Veicular\n",
              "0            0       5.1        3.5       1.4   0.2     Dano-Alto\n",
              "1            1       4.9        3.0       1.4   0.2     Dano-Alto\n",
              "2            2       4.7        3.2       1.3   0.2     Dano-Alto\n",
              "3            3       4.6        3.1       1.5   0.2     Dano-Alto\n",
              "4            4       5.0        3.6       1.4   0.2     Dano-Alto"
            ]
          },
          "metadata": {},
          "execution_count": 3
        }
      ]
    },
    {
      "cell_type": "code",
      "metadata": {
        "id": "XHZFVccdfwFC",
        "colab": {
          "base_uri": "https://localhost:8080/"
        },
        "outputId": "ed068cc0-8253-4b83-f375-92b18ff072d7"
      },
      "source": [
        "print(f\"Dataset têm {dataset.shape[0]} linhas e {dataset.shape[1]} colunas.\")"
      ],
      "execution_count": 16,
      "outputs": [
        {
          "output_type": "stream",
          "name": "stdout",
          "text": [
            "Dataset têm 150 linhas e 6 colunas.\n"
          ]
        }
      ]
    },
    {
      "cell_type": "code",
      "metadata": {
        "colab": {
          "base_uri": "https://localhost:8080/"
        },
        "id": "VTmecRbk2iV7",
        "outputId": "38442685-a4cc-49b8-d5cc-ce2935649e0f"
      },
      "source": [
        "dataset.shape"
      ],
      "execution_count": 8,
      "outputs": [
        {
          "output_type": "execute_result",
          "data": {
            "text/plain": [
              "(150, 6)"
            ]
          },
          "metadata": {},
          "execution_count": 8
        }
      ]
    },
    {
      "cell_type": "code",
      "metadata": {
        "id": "mK81-wdbhRAY"
      },
      "source": [
        "# Gráfico de visualização dos dados\n",
        "wig_col = widgets.Dropdown(\n",
        "              options=[col for col in dataset.columns.tolist() if col.startswith(('Laterais', 'Dianteria', 'Trazeira','Teto'))],\n",
        "              description='Choose a Column to Plot vs. attributes', \n",
        "              disabled= False,\n",
        "              layot= widgets.Layout(width='40%', height='40px'),\n",
        "              style= style)\n"
      ],
      "execution_count": 37,
      "outputs": []
    },
    {
      "cell_type": "code",
      "metadata": {
        "id": "5UZbvAs1i-OQ",
        "colab": {
          "base_uri": "https://localhost:8080/",
          "height": 637,
          "referenced_widgets": [
            "b197c408f29742a1afe3bd61ccd6396d",
            "c646455b37594da7831140cb1ad0b875",
            "e32c309fff8e43d88e13bc47d48def48"
          ]
        },
        "outputId": "75512c64-d968-4348-f888-6f7e701d1ed1"
      },
      "source": [
        "display(wig_col)\n",
        "\n",
        "sns.catplot(x=\"Dano_Veicular\", y=wig_col.value, kind=\"boxen\", data=dataset, height=8.27, aspect=11.7/8.27);"
      ],
      "execution_count": 38,
      "outputs": [
        {
          "output_type": "display_data",
          "data": {
            "application/vnd.jupyter.widget-view+json": {
              "model_id": "b197c408f29742a1afe3bd61ccd6396d",
              "version_minor": 0,
              "version_major": 2
            },
            "text/plain": [
              "Dropdown(description='Choose a Column to Plot vs. attributes', options=('Laterais', 'Teto'), value='Laterais')"
            ]
          },
          "metadata": {}
        },
        {
          "output_type": "display_data",
          "data": {
            "image/png": "[encoded data removed]",
            "text/plain": [
              "<Figure size 842.4x595.44 with 1 Axes>"
            ]
          },
          "metadata": {
            "needs_background": "light"
          }
        }
      ]
    },
    {
      "cell_type": "code",
      "metadata": {
        "id": "co2mcK62jqKR"
      },
      "source": [
        "# 3° Pré-Processamento dos Dados\n",
        "# Separado as variáveis de Entrada e saída do Modelo\n",
        "X = dataset.iloc[:,:-1]\n",
        "y = dataset.iloc[:,-1]"
      ],
      "execution_count": 39,
      "outputs": []
    },
    {
      "cell_type": "code",
      "metadata": {
        "id": "ANJHjYtvlegR",
        "colab": {
          "base_uri": "https://localhost:8080/"
        },
        "outputId": "90bce01a-e4ec-4ef4-dcb5-694855b64151"
      },
      "source": [
        "print(\"\\nVariáveis de Entrada da Avaliação:\\n\\n\", X[:5])\n",
        "print(\"\\nResultado do Dano: \\n\\n\", y[5])"
      ],
      "execution_count": 45,
      "outputs": [
        {
          "output_type": "stream",
          "name": "stdout",
          "text": [
            "\n",
            "Variáveis de Entrada da Avaliação:\n",
            "\n",
            "    ID_Veicular  Laterais  Dianteira  Traseira  Teto\n",
            "0            0       5.1        3.5       1.4   0.2\n",
            "1            1       4.9        3.0       1.4   0.2\n",
            "2            2       4.7        3.2       1.3   0.2\n",
            "3            3       4.6        3.1       1.5   0.2\n",
            "4            4       5.0        3.6       1.4   0.2\n",
            "\n",
            "Resultado do Dano: \n",
            "\n",
            " Dano-Alto\n"
          ]
        }
      ]
    },
    {
      "cell_type": "code",
      "metadata": {
        "id": "YAqDILOsmEO-"
      },
      "source": [
        "# Encode Classes\n",
        "from sklearn.preprocessing import LabelEncoder\n",
        "labelencoder = LabelEncoder()\n",
        "dataset['Dano_Veicular'] = labelencoder.fit_transform(dataset['Dano_Veicular'])\n"
      ],
      "execution_count": 48,
      "outputs": []
    },
    {
      "cell_type": "code",
      "metadata": {
        "id": "cQQfdWpsm6i8",
        "colab": {
          "base_uri": "https://localhost:8080/"
        },
        "outputId": "2b642adb-3e1b-4aa2-a08a-b5acd94831bb"
      },
      "source": [
        "dataset['Dano_Veicular'].unique()"
      ],
      "execution_count": 50,
      "outputs": [
        {
          "output_type": "execute_result",
          "data": {
            "text/plain": [
              "array([0, 2, 1])"
            ]
          },
          "metadata": {},
          "execution_count": 50
        }
      ]
    },
    {
      "cell_type": "code",
      "metadata": {
        "id": "qYx2PoYotfRc",
        "colab": {
          "base_uri": "https://localhost:8080/",
          "height": 49,
          "referenced_widgets": [
            "0f0588866cf4467298a91399df1b19fe",
            "8fbf67c3a74041e88e0fd6e048bcccbd",
            "b7860f714f8b4268a195074bef8adcf8"
          ]
        },
        "outputId": "58ed3cbc-3fc0-4ecc-adc9-1e6176c8e71f"
      },
      "source": [
        "# Separando os dados entre treino e teste de forma interativa\n",
        "# 4 criando dados de treino e teste\n",
        "from sklearn.model_selection import train_test_split\n",
        "test_size = widgets.FloatSlider(min=0.01, max=0.6, value=0.2, description=\"Test Size:\", tooltips=['Usually 20-30%'])\n",
        "display(test_size)"
      ],
      "execution_count": 54,
      "outputs": [
        {
          "output_type": "display_data",
          "data": {
            "application/vnd.jupyter.widget-view+json": {
              "model_id": "0f0588866cf4467298a91399df1b19fe",
              "version_minor": 0,
              "version_major": 2
            },
            "text/plain": [
              "FloatSlider(value=0.2, description='Test Size:', max=0.6, min=0.01)"
            ]
          },
          "metadata": {}
        }
      ]
    },
    {
      "cell_type": "code",
      "metadata": {
        "id": "1DKjDHeku_wR"
      },
      "source": [
        "# Divide o dataset em treino e test\n",
        "X_train, X_test, y_train, y_test = train_test_split(X ,y, test_size= test_size.value, random_state= 7)"
      ],
      "execution_count": 59,
      "outputs": []
    },
    {
      "cell_type": "code",
      "metadata": {
        "id": "Te8XRq_bvqT8",
        "colab": {
          "base_uri": "https://localhost:8080/"
        },
        "outputId": "b5d1ea58-abb8-4fa0-a3ec-7982903c5877"
      },
      "source": [
        "print(\"Dados de Treino :\\n------------\\n\")\n",
        "print(\"X = \\n\", X_train[:5])\n",
        "print(\"y = \\n\", y_train[:5])"
      ],
      "execution_count": 62,
      "outputs": [
        {
          "output_type": "stream",
          "name": "stdout",
          "text": [
            "Dados de Treino :\n",
            "------------\n",
            "\n",
            "X = \n",
            "      ID_Veicular  Laterais  Dianteira  Traseira  Teto\n",
            "126          126       6.2        2.8       4.8   1.8\n",
            "79            79       5.7        2.6       3.5   1.0\n",
            "22            22       4.6        3.6       1.0   0.2\n",
            "139          139       6.9        3.1       5.4   2.1\n",
            "74            74       6.4        2.9       4.3   1.3\n",
            "y = \n",
            " 126    Dano-Baixo\n",
            "79     Dano-Medio\n",
            "22      Dano-Alto\n",
            "139    Dano-Baixo\n",
            "74     Dano-Medio\n",
            "Name: Dano_Veicular, dtype: object\n"
          ]
        }
      ]
    },
    {
      "cell_type": "code",
      "metadata": {
        "id": "hSd640gtwwpk",
        "colab": {
          "base_uri": "https://localhost:8080/"
        },
        "outputId": "2b0f3c04-efcc-4ed9-82fa-db85ea08f42c"
      },
      "source": [
        "print(\"\\n\\nDados de Teste: \\n------------\\n\")\n",
        "print(\"X= \\n\", X_test[:5])\n",
        "print(\"y = \\n\", y_test[:5])"
      ],
      "execution_count": 63,
      "outputs": [
        {
          "output_type": "stream",
          "name": "stdout",
          "text": [
            "\n",
            "\n",
            "Dados de Teste: \n",
            "------------\n",
            "\n",
            "X= \n",
            "      ID_Veicular  Laterais  Dianteira  Traseira  Teto\n",
            "149          149       5.9        3.0       5.1   1.8\n",
            "84            84       5.4        3.0       4.5   1.5\n",
            "40            40       5.0        3.5       1.3   0.3\n",
            "66            66       5.6        3.0       4.5   1.5\n",
            "106          106       4.9        2.5       4.5   1.7\n",
            "y = \n",
            " 149    Dano-Baixo\n",
            "84     Dano-Medio\n",
            "40      Dano-Alto\n",
            "66     Dano-Medio\n",
            "106    Dano-Baixo\n",
            "Name: Dano_Veicular, dtype: object\n"
          ]
        }
      ]
    },
    {
      "cell_type": "code",
      "metadata": {
        "id": "ubpIdC9axW2H",
        "colab": {
          "base_uri": "https://localhost:8080/"
        },
        "outputId": "30148303-e219-4e32-9f77-f72ab76a7794"
      },
      "source": [
        "print(f\"Shape dos dados de treino é {X_train.shape}\")\n",
        "print(f\"Shape dos dados de teste é {X_test.shape}\")"
      ],
      "execution_count": 66,
      "outputs": [
        {
          "output_type": "stream",
          "name": "stdout",
          "text": [
            "Shape dos dados de treino é (120, 5)\n",
            "Shape dos dados de teste é (30, 5)\n"
          ]
        }
      ]
    },
    {
      "cell_type": "code",
      "metadata": {
        "id": "VW1uydq6ysiN",
        "colab": {
          "base_uri": "https://localhost:8080/"
        },
        "outputId": "c734e19c-8e90-4860-d3b8-727b4a32cf33"
      },
      "source": [
        "# Pradonizando as Features - As Variáveis(variáveis de entrada)\n",
        "# média X = 0 e desvio = 1\n",
        "# Recurso de Escala\n",
        "from sklearn.preprocessing import StandardScaler\n",
        "sc = StandardScaler()\n",
        "\n",
        "X_train = sc.fit_transform(X_train)\n",
        "X_test = sc.transform(X_test)\n",
        "print(\"\\n------------\\nDataset depois na padronização:\\n-------------\\n\",)\n",
        "\n",
        "print(\"\\nX_train :\\n\", X_train[:5])\n",
        "print(\"--------\")\n",
        "print(\"\\nX_test :\\n\", X_test[:5])"
      ],
      "execution_count": 67,
      "outputs": [
        {
          "output_type": "stream",
          "name": "stdout",
          "text": [
            "\n",
            "------------\n",
            "Dataset depois na padronização:\n",
            "-------------\n",
            "\n",
            "\n",
            "X_train :\n",
            " [[ 1.20732325  0.43325894 -0.59653573  0.62601116  0.82081788]\n",
            " [ 0.14948526 -0.15754871 -1.05688485 -0.09737951 -0.21464226]\n",
            " [-1.13342464 -1.45732553  1.24486074 -1.48851543 -1.2501024 ]\n",
            " [ 1.49991673  1.26038965  0.09398794  0.95988378  1.20911544]\n",
            " [ 0.03694931  0.669582   -0.36636117  0.34778398  0.17365529]]\n",
            "--------\n",
            "\n",
            "X_test :\n",
            " [[ 1.72498864  0.07877435 -0.13618661  0.79294747  0.82081788]\n",
            " [ 0.26202122 -0.51203329 -0.13618661  0.45907485  0.43252033]\n",
            " [-0.72829519 -0.98467941  1.01468618 -1.32157912 -1.12066988]\n",
            " [-0.14310822 -0.27571024 -0.13618661  0.45907485  0.43252033]\n",
            " [ 0.75717942 -1.10284094 -1.28705941  0.45907485  0.69138537]]\n"
          ]
        }
      ]
    },
    {
      "cell_type": "code",
      "metadata": {
        "id": "RGnPtdYf1LT9"
      },
      "source": [
        "# 4° Construindo a Máquina Preditiva com KNN Classifier\n",
        "# Importando KNN Library\n",
        "from sklearn.neighbors import KNeighborsClassifier\n"
      ],
      "execution_count": 68,
      "outputs": []
    },
    {
      "cell_type": "code",
      "metadata": {
        "colab": {
          "base_uri": "https://localhost:8080/",
          "height": 49,
          "referenced_widgets": [
            "e39b2764b1924ae1a4a4a3ede48b8b16",
            "fc352c1b69ea4ae1919029f060b4785a",
            "88041149db6a41008f4eb2a8a71f6350"
          ]
        },
        "id": "L9EhP-HL1O4d",
        "outputId": "b56462fb-97b8-4dea-b661-cd55923cc21e"
      },
      "source": [
        " # Configuração dos tarametros do Modelo\n",
        " neigh_wig = widgets.Dropdown(options=[1, 10, 30, 100],\n",
        "                              description= \"Numbers of Neighbours=\", style=style)\n",
        " \n",
        " display(neigh_wig)"
      ],
      "execution_count": 69,
      "outputs": [
        {
          "output_type": "display_data",
          "data": {
            "application/vnd.jupyter.widget-view+json": {
              "model_id": "e39b2764b1924ae1a4a4a3ede48b8b16",
              "version_minor": 0,
              "version_major": 2
            },
            "text/plain": [
              "Dropdown(description='Numbers of Neighbours=', options=(1, 10, 30, 100), value=1)"
            ]
          },
          "metadata": {}
        }
      ]
    },
    {
      "cell_type": "code",
      "metadata": {
        "id": "noZvXwGw2oXo",
        "colab": {
          "base_uri": "https://localhost:8080/"
        },
        "outputId": "9ae4b26b-ed11-4e62-b70c-90b711d47a65"
      },
      "source": [
        "Maquina_Preditiva = KNeighborsClassifier(n_neighbors=neigh_wig.value)\n",
        "# Treinando a Máquina preditiva\n",
        "# Realimentando o dado de treino no Classifier\n",
        "Maquina_Preditiva.fit(X_train, y_train)"
      ],
      "execution_count": 78,
      "outputs": [
        {
          "output_type": "execute_result",
          "data": {
            "text/plain": [
              "KNeighborsClassifier(algorithm='auto', leaf_size=30, metric='minkowski',\n",
              "                     metric_params=None, n_jobs=None, n_neighbors=10, p=2,\n",
              "                     weights='uniform')"
            ]
          },
          "metadata": {},
          "execution_count": 78
        }
      ]
    },
    {
      "cell_type": "code",
      "metadata": {
        "id": "Ce6dPxEc3KDA",
        "colab": {
          "base_uri": "https://localhost:8080/"
        },
        "outputId": "ec4a1ac7-cbca-414f-a9de-3ea016a886ba"
      },
      "source": [
        "# predite a espécie para o teste\n",
        "y_pred = Maquina_Preditiva.predict(X_test)\n",
        "\n",
        "print(\"\\n----------\\n\")\n",
        "print(\"Valores Preditos com dados de Teste :\\n\", y_pred)\n",
        "print(\"\\n----------\\n\")\n",
        "print(\"valores Reais com dados de Teste :\\n\", y_test)"
      ],
      "execution_count": 79,
      "outputs": [
        {
          "output_type": "stream",
          "name": "stdout",
          "text": [
            "\n",
            "----------\n",
            "\n",
            "Valores Preditos com dados de Teste :\n",
            " ['Dano-Baixo' 'Dano-Medio' 'Dano-Alto' 'Dano-Medio' 'Dano-Medio'\n",
            " 'Dano-Alto' 'Dano-Medio' 'Dano-Medio' 'Dano-Alto' 'Dano-Medio'\n",
            " 'Dano-Medio' 'Dano-Medio' 'Dano-Alto' 'Dano-Baixo' 'Dano-Alto'\n",
            " 'Dano-Medio' 'Dano-Baixo' 'Dano-Baixo' 'Dano-Alto' 'Dano-Alto'\n",
            " 'Dano-Medio' 'Dano-Baixo' 'Dano-Medio' 'Dano-Baixo' 'Dano-Baixo'\n",
            " 'Dano-Baixo' 'Dano-Medio' 'Dano-Medio' 'Dano-Baixo' 'Dano-Baixo']\n",
            "\n",
            "----------\n",
            "\n",
            "valores Reais com dados de Teste :\n",
            " 149    Dano-Baixo\n",
            "84     Dano-Medio\n",
            "40      Dano-Alto\n",
            "66     Dano-Medio\n",
            "106    Dano-Baixo\n",
            "41      Dano-Alto\n",
            "52     Dano-Medio\n",
            "94     Dano-Medio\n",
            "11      Dano-Alto\n",
            "51     Dano-Medio\n",
            "77     Dano-Medio\n",
            "85     Dano-Medio\n",
            "32      Dano-Alto\n",
            "109    Dano-Baixo\n",
            "28      Dano-Alto\n",
            "70     Dano-Medio\n",
            "108    Dano-Baixo\n",
            "137    Dano-Baixo\n",
            "46      Dano-Alto\n",
            "37      Dano-Alto\n",
            "82     Dano-Medio\n",
            "120    Dano-Baixo\n",
            "63     Dano-Medio\n",
            "119    Dano-Baixo\n",
            "129    Dano-Baixo\n",
            "138    Dano-Baixo\n",
            "97     Dano-Medio\n",
            "80     Dano-Medio\n",
            "101    Dano-Baixo\n",
            "140    Dano-Baixo\n",
            "Name: Dano_Veicular, dtype: object\n"
          ]
        }
      ]
    },
    {
      "cell_type": "code",
      "metadata": {
        "id": "JG_iMkUf4for",
        "colab": {
          "base_uri": "https://localhost:8080/"
        },
        "outputId": "e6995e06-a1be-4e3d-b7d8-f5cf2707ccd7"
      },
      "source": [
        "# 5° Avaliando a máquina Preditiva\n",
        "from sklearn import metrics\n",
        "print(\"Acurácia da Máquina =\", metrics.accuracy_score(y_test, y_pred))\n"
      ],
      "execution_count": 80,
      "outputs": [
        {
          "output_type": "stream",
          "name": "stdout",
          "text": [
            "Acurácia da Máquina = 0.9666666666666667\n"
          ]
        }
      ]
    },
    {
      "cell_type": "code",
      "metadata": {
        "id": "IiyXyQoC5Hjr",
        "colab": {
          "base_uri": "https://localhost:8080/",
          "height": 1000
        },
        "outputId": "78e21f5c-a16d-4544-8429-5993ee5109be"
      },
      "source": [
        "# Comparando real e Predito com os dados de Teste\n",
        "print(\"\\nReal vs Predito \\n--------\\n\")\n",
        "error_df = pd.DataFrame({\"Real\": y_test, \"Predito\" : y_pred})\n",
        "error_df"
      ],
      "execution_count": 81,
      "outputs": [
        {
          "output_type": "stream",
          "name": "stdout",
          "text": [
            "\n",
            "Real vs Predito \n",
            "--------\n",
            "\n"
          ]
        },
        {
          "output_type": "execute_result",
          "data": {
            "text/html": [
              "<div>\n",
              "<style scoped>\n",
              "    .dataframe tbody tr th:only-of-type {\n",
              "        vertical-align: middle;\n",
              "    }\n",
              "\n",
              "    .dataframe tbody tr th {\n",
              "        vertical-align: top;\n",
              "    }\n",
              "\n",
              "    .dataframe thead th {\n",
              "        text-align: right;\n",
              "    }\n",
              "</style>\n",
              "<table border=\"1\" class=\"dataframe\">\n",
              "  <thead>\n",
              "    <tr style=\"text-align: right;\">\n",
              "      <th></th>\n",
              "      <th>Real</th>\n",
              "      <th>Predito</th>\n",
              "    </tr>\n",
              "  </thead>\n",
              "  <tbody>\n",
              "    <tr>\n",
              "      <th>149</th>\n",
              "      <td>Dano-Baixo</td>\n",
              "      <td>Dano-Baixo</td>\n",
              "    </tr>\n",
              "    <tr>\n",
              "      <th>84</th>\n",
              "      <td>Dano-Medio</td>\n",
              "      <td>Dano-Medio</td>\n",
              "    </tr>\n",
              "    <tr>\n",
              "      <th>40</th>\n",
              "      <td>Dano-Alto</td>\n",
              "      <td>Dano-Alto</td>\n",
              "    </tr>\n",
              "    <tr>\n",
              "      <th>66</th>\n",
              "      <td>Dano-Medio</td>\n",
              "      <td>Dano-Medio</td>\n",
              "    </tr>\n",
              "    <tr>\n",
              "      <th>106</th>\n",
              "      <td>Dano-Baixo</td>\n",
              "      <td>Dano-Medio</td>\n",
              "    </tr>\n",
              "    <tr>\n",
              "      <th>41</th>\n",
              "      <td>Dano-Alto</td>\n",
              "      <td>Dano-Alto</td>\n",
              "    </tr>\n",
              "    <tr>\n",
              "      <th>52</th>\n",
              "      <td>Dano-Medio</td>\n",
              "      <td>Dano-Medio</td>\n",
              "    </tr>\n",
              "    <tr>\n",
              "      <th>94</th>\n",
              "      <td>Dano-Medio</td>\n",
              "      <td>Dano-Medio</td>\n",
              "    </tr>\n",
              "    <tr>\n",
              "      <th>11</th>\n",
              "      <td>Dano-Alto</td>\n",
              "      <td>Dano-Alto</td>\n",
              "    </tr>\n",
              "    <tr>\n",
              "      <th>51</th>\n",
              "      <td>Dano-Medio</td>\n",
              "      <td>Dano-Medio</td>\n",
              "    </tr>\n",
              "    <tr>\n",
              "      <th>77</th>\n",
              "      <td>Dano-Medio</td>\n",
              "      <td>Dano-Medio</td>\n",
              "    </tr>\n",
              "    <tr>\n",
              "      <th>85</th>\n",
              "      <td>Dano-Medio</td>\n",
              "      <td>Dano-Medio</td>\n",
              "    </tr>\n",
              "    <tr>\n",
              "      <th>32</th>\n",
              "      <td>Dano-Alto</td>\n",
              "      <td>Dano-Alto</td>\n",
              "    </tr>\n",
              "    <tr>\n",
              "      <th>109</th>\n",
              "      <td>Dano-Baixo</td>\n",
              "      <td>Dano-Baixo</td>\n",
              "    </tr>\n",
              "    <tr>\n",
              "      <th>28</th>\n",
              "      <td>Dano-Alto</td>\n",
              "      <td>Dano-Alto</td>\n",
              "    </tr>\n",
              "    <tr>\n",
              "      <th>70</th>\n",
              "      <td>Dano-Medio</td>\n",
              "      <td>Dano-Medio</td>\n",
              "    </tr>\n",
              "    <tr>\n",
              "      <th>108</th>\n",
              "      <td>Dano-Baixo</td>\n",
              "      <td>Dano-Baixo</td>\n",
              "    </tr>\n",
              "    <tr>\n",
              "      <th>137</th>\n",
              "      <td>Dano-Baixo</td>\n",
              "      <td>Dano-Baixo</td>\n",
              "    </tr>\n",
              "    <tr>\n",
              "      <th>46</th>\n",
              "      <td>Dano-Alto</td>\n",
              "      <td>Dano-Alto</td>\n",
              "    </tr>\n",
              "    <tr>\n",
              "      <th>37</th>\n",
              "      <td>Dano-Alto</td>\n",
              "      <td>Dano-Alto</td>\n",
              "    </tr>\n",
              "    <tr>\n",
              "      <th>82</th>\n",
              "      <td>Dano-Medio</td>\n",
              "      <td>Dano-Medio</td>\n",
              "    </tr>\n",
              "    <tr>\n",
              "      <th>120</th>\n",
              "      <td>Dano-Baixo</td>\n",
              "      <td>Dano-Baixo</td>\n",
              "    </tr>\n",
              "    <tr>\n",
              "      <th>63</th>\n",
              "      <td>Dano-Medio</td>\n",
              "      <td>Dano-Medio</td>\n",
              "    </tr>\n",
              "    <tr>\n",
              "      <th>119</th>\n",
              "      <td>Dano-Baixo</td>\n",
              "      <td>Dano-Baixo</td>\n",
              "    </tr>\n",
              "    <tr>\n",
              "      <th>129</th>\n",
              "      <td>Dano-Baixo</td>\n",
              "      <td>Dano-Baixo</td>\n",
              "    </tr>\n",
              "    <tr>\n",
              "      <th>138</th>\n",
              "      <td>Dano-Baixo</td>\n",
              "      <td>Dano-Baixo</td>\n",
              "    </tr>\n",
              "    <tr>\n",
              "      <th>97</th>\n",
              "      <td>Dano-Medio</td>\n",
              "      <td>Dano-Medio</td>\n",
              "    </tr>\n",
              "    <tr>\n",
              "      <th>80</th>\n",
              "      <td>Dano-Medio</td>\n",
              "      <td>Dano-Medio</td>\n",
              "    </tr>\n",
              "    <tr>\n",
              "      <th>101</th>\n",
              "      <td>Dano-Baixo</td>\n",
              "      <td>Dano-Baixo</td>\n",
              "    </tr>\n",
              "    <tr>\n",
              "      <th>140</th>\n",
              "      <td>Dano-Baixo</td>\n",
              "      <td>Dano-Baixo</td>\n",
              "    </tr>\n",
              "  </tbody>\n",
              "</table>\n",
              "</div>"
            ],
            "text/plain": [
              "           Real     Predito\n",
              "149  Dano-Baixo  Dano-Baixo\n",
              "84   Dano-Medio  Dano-Medio\n",
              "40    Dano-Alto   Dano-Alto\n",
              "66   Dano-Medio  Dano-Medio\n",
              "106  Dano-Baixo  Dano-Medio\n",
              "41    Dano-Alto   Dano-Alto\n",
              "52   Dano-Medio  Dano-Medio\n",
              "94   Dano-Medio  Dano-Medio\n",
              "11    Dano-Alto   Dano-Alto\n",
              "51   Dano-Medio  Dano-Medio\n",
              "77   Dano-Medio  Dano-Medio\n",
              "85   Dano-Medio  Dano-Medio\n",
              "32    Dano-Alto   Dano-Alto\n",
              "109  Dano-Baixo  Dano-Baixo\n",
              "28    Dano-Alto   Dano-Alto\n",
              "70   Dano-Medio  Dano-Medio\n",
              "108  Dano-Baixo  Dano-Baixo\n",
              "137  Dano-Baixo  Dano-Baixo\n",
              "46    Dano-Alto   Dano-Alto\n",
              "37    Dano-Alto   Dano-Alto\n",
              "82   Dano-Medio  Dano-Medio\n",
              "120  Dano-Baixo  Dano-Baixo\n",
              "63   Dano-Medio  Dano-Medio\n",
              "119  Dano-Baixo  Dano-Baixo\n",
              "129  Dano-Baixo  Dano-Baixo\n",
              "138  Dano-Baixo  Dano-Baixo\n",
              "97   Dano-Medio  Dano-Medio\n",
              "80   Dano-Medio  Dano-Medio\n",
              "101  Dano-Baixo  Dano-Baixo\n",
              "140  Dano-Baixo  Dano-Baixo"
            ]
          },
          "metadata": {},
          "execution_count": 81
        }
      ]
    },
    {
      "cell_type": "code",
      "metadata": {
        "id": "jbkeAhbs3go-"
      },
      "source": [
        "# Usando a confusion matrix para avaliar a acurácia e de mais indicadores\n",
        "from sklearn.metrics import confusion_matrix, classification_report\n",
        "cm = confusion_matrix(y_test, y_pred)\n",
        "print(cm)\n",
        "print(cr)"
      ],
      "execution_count": null,
      "outputs": []
    }
  ]
}